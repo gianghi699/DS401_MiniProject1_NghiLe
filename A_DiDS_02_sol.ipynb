{
 "cells": [
  {
   "cell_type": "markdown",
   "id": "744c6dcb-5af6-4cf2-9b29-015c46036120",
   "metadata": {},
   "source": [
    "1. Add documentation for the previous code, each line"
   ]
  },
  {
   "cell_type": "code",
   "execution_count": 4,
   "id": "87b47a87-7eeb-4d54-a42a-d20d2f3716b1",
   "metadata": {},
   "outputs": [],
   "source": [
    "import numpy as np"
   ]
  },
  {
   "cell_type": "markdown",
   "id": "9abb00be-c53d-49e0-9223-cef7d800e3b1",
   "metadata": {},
   "source": [
    "Imports numpy library\n"
   ]
  },
  {
   "cell_type": "code",
   "execution_count": 3,
   "id": "b4cf069b-0a1a-4e8b-9ae0-1937f761b598",
   "metadata": {},
   "outputs": [],
   "source": [
    "data = {i : np.random.randn(2,4) for i in range(3)}"
   ]
  },
  {
   "cell_type": "markdown",
   "id": "a7ef845b-c124-4de3-803e-49c77ac56dc0",
   "metadata": {},
   "source": [
    "Produces a list of 3 arrays of the shape (d0, d1) which is a 2-D array, filled with 4 random floats sampled from a univariate \"normal\" distribution of mean 0 and variance 1; and stores them in a variable called data."
   ]
  },
  {
   "cell_type": "code",
   "execution_count": 6,
   "id": "573e5d6f-7cf7-4678-afe0-c81aa04306f4",
   "metadata": {},
   "outputs": [
    {
     "data": {
      "text/plain": [
       "dict"
      ]
     },
     "execution_count": 6,
     "metadata": {},
     "output_type": "execute_result"
    }
   ],
   "source": [
    "type(data)"
   ]
  },
  {
   "cell_type": "markdown",
   "id": "b1c23be3-4a09-4d76-b457-f065fd776a08",
   "metadata": {},
   "source": [
    "Represents an unordered collection of keys and values."
   ]
  },
  {
   "cell_type": "code",
   "execution_count": 7,
   "id": "93af008b-2467-467a-ad54-b39a326afd06",
   "metadata": {},
   "outputs": [
    {
     "name": "stdout",
     "output_type": "stream",
     "text": [
      "{0: array([[-0.1627066 ,  1.50972356, -1.65390161,  1.00494591],\n",
      "       [-0.08961076, -0.90122983, -1.21338528,  0.45749114]]), 1: array([[-0.45282704,  0.92623075,  0.80491408,  0.72848543],\n",
      "       [ 1.26556989,  0.31597773,  1.55216159,  0.33870915]]), 2: array([[-1.82053743,  0.01784125, -1.34968368, -2.7508369 ],\n",
      "       [-2.11267595, -1.76252413,  0.10903313, -0.53925936]])}\n"
     ]
    }
   ],
   "source": [
    "print(data)"
   ]
  },
  {
   "cell_type": "markdown",
   "id": "005ba3eb-998e-4432-beed-0f923bde8444",
   "metadata": {},
   "source": [
    "Prints data "
   ]
  },
  {
   "cell_type": "code",
   "execution_count": 8,
   "id": "faf338ad-6858-4da5-833a-ef6680ae53b6",
   "metadata": {},
   "outputs": [
    {
     "data": {
      "text/plain": [
       "array([[-0.1627066 ,  1.50972356, -1.65390161,  1.00494591],\n",
       "       [-0.08961076, -0.90122983, -1.21338528,  0.45749114]])"
      ]
     },
     "execution_count": 8,
     "metadata": {},
     "output_type": "execute_result"
    }
   ],
   "source": [
    "data[0]"
   ]
  },
  {
   "cell_type": "markdown",
   "id": "b471f961-37d4-46e0-8e68-904bfbb07729",
   "metadata": {},
   "source": [
    "Prints the array in data with index 0"
   ]
  },
  {
   "cell_type": "code",
   "execution_count": 9,
   "id": "f08c18d9-a3a8-4a0c-91b2-a2b142652cab",
   "metadata": {},
   "outputs": [
    {
     "data": {
      "text/plain": [
       "array([-0.1627066 ,  1.50972356, -1.65390161,  1.00494591])"
      ]
     },
     "execution_count": 9,
     "metadata": {},
     "output_type": "execute_result"
    }
   ],
   "source": [
    "data[0][0]"
   ]
  },
  {
   "cell_type": "markdown",
   "id": "ed61cede-7ab7-4d51-95a5-0d69226939a8",
   "metadata": {},
   "source": [
    "Prints the first row in the first array"
   ]
  },
  {
   "cell_type": "code",
   "execution_count": 10,
   "id": "e3c2bbdf-b53c-4a47-bd31-5a91009864d8",
   "metadata": {},
   "outputs": [
    {
     "data": {
      "text/plain": [
       "-0.16270660321580122"
      ]
     },
     "execution_count": 10,
     "metadata": {},
     "output_type": "execute_result"
    }
   ],
   "source": [
    "data[0][0][0]"
   ]
  },
  {
   "cell_type": "markdown",
   "id": "20db18c0-24a2-4fce-b2c3-37a7489d4023",
   "metadata": {},
   "source": [
    "Prints the first element in the first row of the first array"
   ]
  },
  {
   "cell_type": "markdown",
   "id": "9655dcc0-c6c0-4b8c-b4b5-c0c10bd036d6",
   "metadata": {},
   "source": [
    "\n",
    "2. Calculate the average for different columns"
   ]
  },
  {
   "cell_type": "markdown",
   "id": "8651dacc-14a9-4244-91d0-576658c79b71",
   "metadata": {},
   "source": [
    "a) The averages for columns in array 0"
   ]
  },
  {
   "cell_type": "code",
   "execution_count": 14,
   "id": "fe2c467d-9529-4d21-a438-8244ca364e10",
   "metadata": {},
   "outputs": [
    {
     "data": {
      "text/plain": [
       "-0.12615868215364393"
      ]
     },
     "execution_count": 14,
     "metadata": {},
     "output_type": "execute_result"
    }
   ],
   "source": [
    "(data[0][0][0] + data[0][1][0])/2"
   ]
  },
  {
   "cell_type": "code",
   "execution_count": 15,
   "id": "aff3abc5-01d6-42d0-824f-20a4217fc4e8",
   "metadata": {},
   "outputs": [
    {
     "data": {
      "text/plain": [
       "0.30424686285643826"
      ]
     },
     "execution_count": 15,
     "metadata": {},
     "output_type": "execute_result"
    }
   ],
   "source": [
    "(data[0][0][1] + data[0][1][1])/2"
   ]
  },
  {
   "cell_type": "code",
   "execution_count": 16,
   "id": "677f0793-93d1-4957-acd8-4bb4f939447b",
   "metadata": {},
   "outputs": [
    {
     "data": {
      "text/plain": [
       "-1.4336434475946267"
      ]
     },
     "execution_count": 16,
     "metadata": {},
     "output_type": "execute_result"
    }
   ],
   "source": [
    "(data[0][0][2] + data[0][1][2])/2"
   ]
  },
  {
   "cell_type": "markdown",
   "id": "b9992f30-f35a-425f-94db-6d30efe32d1f",
   "metadata": {},
   "source": [
    "b) The averages for columns in array 1"
   ]
  },
  {
   "cell_type": "code",
   "execution_count": 17,
   "id": "2d638b51-75a8-433f-86f4-c2745c9cd47c",
   "metadata": {},
   "outputs": [
    {
     "data": {
      "text/plain": [
       "0.4063714204768831"
      ]
     },
     "execution_count": 17,
     "metadata": {},
     "output_type": "execute_result"
    }
   ],
   "source": [
    "(data[1][0][0] + data[1][1][0])/2"
   ]
  },
  {
   "cell_type": "code",
   "execution_count": 18,
   "id": "5de8d1bf-aca8-49f4-a49b-67773cc0fc29",
   "metadata": {},
   "outputs": [
    {
     "data": {
      "text/plain": [
       "0.6211042430844884"
      ]
     },
     "execution_count": 18,
     "metadata": {},
     "output_type": "execute_result"
    }
   ],
   "source": [
    "(data[1][0][1] + data[1][1][1])/2"
   ]
  },
  {
   "cell_type": "code",
   "execution_count": 20,
   "id": "08b690c9-13fe-41b7-a918-de6e536cd160",
   "metadata": {},
   "outputs": [
    {
     "data": {
      "text/plain": [
       "1.1785378320545512"
      ]
     },
     "execution_count": 20,
     "metadata": {},
     "output_type": "execute_result"
    }
   ],
   "source": [
    "(data[1][0][2] + data[1][1][2])/2"
   ]
  },
  {
   "cell_type": "markdown",
   "id": "c5f6f5bd-79c0-449c-92e7-1eef927a5229",
   "metadata": {},
   "source": [
    "c) The averages for columns in array 2"
   ]
  },
  {
   "cell_type": "code",
   "execution_count": 21,
   "id": "c97b6fe2-0f06-4dfa-a405-c6b98f710963",
   "metadata": {},
   "outputs": [
    {
     "data": {
      "text/plain": [
       "-1.9666066915774252"
      ]
     },
     "execution_count": 21,
     "metadata": {},
     "output_type": "execute_result"
    }
   ],
   "source": [
    "(data[2][0][0] + data[2][1][0])/2"
   ]
  },
  {
   "cell_type": "code",
   "execution_count": 22,
   "id": "17ad6efb-dc88-442c-8d20-f7f4a6e5952f",
   "metadata": {},
   "outputs": [
    {
     "data": {
      "text/plain": [
       "-0.8723414392265169"
      ]
     },
     "execution_count": 22,
     "metadata": {},
     "output_type": "execute_result"
    }
   ],
   "source": [
    "(data[2][0][1] + data[2][1][1])/2"
   ]
  },
  {
   "cell_type": "code",
   "execution_count": 23,
   "id": "bac3c365-d868-437d-8ea5-4cedd76f9f59",
   "metadata": {},
   "outputs": [
    {
     "data": {
      "text/plain": [
       "-0.6203252731826124"
      ]
     },
     "execution_count": 23,
     "metadata": {},
     "output_type": "execute_result"
    }
   ],
   "source": [
    "(data[2][0][2] + data[2][1][2])/2"
   ]
  },
  {
   "cell_type": "markdown",
   "id": "a3794e5b-1f64-4c90-8df5-af25723f11ad",
   "metadata": {},
   "source": [
    "3. Discuss differences between List and Tuple"
   ]
  },
  {
   "cell_type": "markdown",
   "id": "36387912-8175-49f6-b6b4-5fc6b2457957",
   "metadata": {},
   "source": [
    "| List | Tuple |\n",
    "|------|-------|\n",
    "|Lists can be modified| Tuples are not mutable|\n",
    "|Lists' implication of iterations is time-consuming|Tuples' implication of iterations is comparativebly faster|\n",
    "|Lists are better for performing operations, such as insertions and deletion|Type data type is suitable for accessing elements|\n",
    "|Lists consume more memory|Tuples consumes less memory comparatively|\n",
    "|Lists have several built-in methods|Tuple does not have any built-in methods|\n",
    "|Unexpected changes and errors are more likely to occur|Since tuple is immutable it is far less error-prone|"
   ]
  },
  {
   "cell_type": "code",
   "execution_count": null,
   "id": "a4343480-34bd-4ba1-ada0-5583c12a6064",
   "metadata": {},
   "outputs": [],
   "source": []
  }
 ],
 "metadata": {
  "kernelspec": {
   "display_name": "Python 3.7",
   "language": "python",
   "name": "py37"
  },
  "language_info": {
   "codemirror_mode": {
    "name": "ipython",
    "version": 3
   },
   "file_extension": ".py",
   "mimetype": "text/x-python",
   "name": "python",
   "nbconvert_exporter": "python",
   "pygments_lexer": "ipython3",
   "version": "3.7.16"
  }
 },
 "nbformat": 4,
 "nbformat_minor": 5
}
