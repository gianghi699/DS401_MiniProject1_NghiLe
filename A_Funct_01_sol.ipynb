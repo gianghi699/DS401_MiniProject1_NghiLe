{
 "cells": [
  {
   "cell_type": "code",
   "execution_count": null,
   "id": "f79167b9-b608-4e9f-ad38-f86b8593b944",
   "metadata": {},
   "outputs": [],
   "source": [
    "# function to calculate the determinant of a 2x2 matrix such that \n",
    "# a and b are elements in the first row, c and d are elements in the second row\n",
    "def det_of_2x2_matrix(a,b,c,d):\n",
    "    det_2 = a*d - b*c\n",
    "    print(det_2)\n",
    "\n",
    "#test the function by entering the entries row wise (a->b->c->d)\n",
    "det_of_2x2_matrix(1,2,3,4)\n",
    "\n",
    "# function to calculate the determinant of a 3x3 matrix such that\n",
    "# (a, b, c), (p,q,r) and (x,y,z) are three rows of the 3x3 matrix respectively\n",
    "def det_of_3x3_matrix(a,b,c,p,q,r,x,y,z):\n",
    "    det_3 = a*q*z + b*r*x + c*p*y - a*r*y - b*p*z - c*q*x  #proved in slides and reports\n",
    "    print(det_3)\n",
    "    \n",
    "#test\n",
    "det_of_3x3_matrix(1,2,3,4,5,6,7,8,9)\n",
    "    \n",
    "    "
   ]
  }
 ],
 "metadata": {
  "kernelspec": {
   "display_name": "Python 3.7",
   "language": "python",
   "name": "py37"
  },
  "language_info": {
   "codemirror_mode": {
    "name": "ipython",
    "version": 3
   },
   "file_extension": ".py",
   "mimetype": "text/x-python",
   "name": "python",
   "nbconvert_exporter": "python",
   "pygments_lexer": "ipython3",
   "version": "3.7.16"
  }
 },
 "nbformat": 4,
 "nbformat_minor": 5
}
