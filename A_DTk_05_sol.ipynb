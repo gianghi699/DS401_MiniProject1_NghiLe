{
 "cells": [
  {
   "cell_type": "code",
   "execution_count": 8,
   "id": "480539a3-98e9-493f-b95e-b8f2355dc93a",
   "metadata": {},
   "outputs": [],
   "source": [
    "f = open(\"example.txt\")"
   ]
  },
  {
   "cell_type": "code",
   "execution_count": 9,
   "id": "ea057c6a-9521-4461-85bc-db6c41f1fecf",
   "metadata": {},
   "outputs": [],
   "source": [
    "ftext = f.read()"
   ]
  },
  {
   "cell_type": "code",
   "execution_count": 10,
   "id": "ba34268a-3a2f-4eb4-b4c2-cd63b69d6524",
   "metadata": {},
   "outputs": [],
   "source": [
    "f.close()"
   ]
  },
  {
   "cell_type": "code",
   "execution_count": 11,
   "id": "2a417edd-8e5c-4bc1-a165-38b37b293060",
   "metadata": {},
   "outputs": [],
   "source": [
    "ftokens = ftext.split()"
   ]
  },
  {
   "cell_type": "code",
   "execution_count": 13,
   "id": "94210a54-2273-4223-bd5e-9f7090b94355",
   "metadata": {},
   "outputs": [
    {
     "name": "stdout",
     "output_type": "stream",
     "text": [
      "Market\n"
     ]
    }
   ],
   "source": [
    "print(ftext[0:6])"
   ]
  },
  {
   "cell_type": "code",
   "execution_count": 15,
   "id": "ba003fd2-256c-4758-9ffe-dcba5a583cec",
   "metadata": {},
   "outputs": [
    {
     "name": "stdout",
     "output_type": "stream",
     "text": [
      "Market segmentation is a technique in marketing used to divide a target market into approachable groups. By creating subsets of a market based on demographics, needs, priorities, common interests, psychographic or behavioral criteria, researchers utilize market segmentation to better understand the target audience. The main idea of this proposal is to research deeper into the k-mean clustering algorithm and apply the technology in market segmentation with unsupervised learning. (has data now) Beside majoring in Data Science, I’m a Music minor. I love exploring new songs occasionally. Whenever I discover a new taste of music, I would want to listen to songs similar to the newly found novel tune being played next. However, the current shuffle button on Spotify or recommended next video on YouTube are not in line with my desire. The idea of this proposal is to research different song recommendation algorithms and find a way to solve the stated problem. \n"
     ]
    }
   ],
   "source": [
    "print(ftext)"
   ]
  },
  {
   "cell_type": "code",
   "execution_count": 16,
   "id": "c6b6f993-3efa-480e-8a54-7967d379be1e",
   "metadata": {},
   "outputs": [
    {
     "name": "stdout",
     "output_type": "stream",
     "text": [
      "['Market', 'segmentation', 'is', 'a', 'technique', 'in', 'marketing', 'used', 'to', 'divide', 'a', 'target', 'market', 'into', 'approachable', 'groups.', 'By', 'creating', 'subsets', 'of', 'a', 'market', 'based', 'on', 'demographics,', 'needs,', 'priorities,', 'common', 'interests,', 'psychographic', 'or', 'behavioral', 'criteria,', 'researchers', 'utilize', 'market', 'segmentation', 'to', 'better', 'understand', 'the', 'target', 'audience.', 'The', 'main', 'idea', 'of', 'this', 'proposal', 'is', 'to', 'research', 'deeper', 'into', 'the', 'k-mean', 'clustering', 'algorithm', 'and', 'apply', 'the', 'technology', 'in', 'market', 'segmentation', 'with', 'unsupervised', 'learning.', '(has', 'data', 'now)', 'Beside', 'majoring', 'in', 'Data', 'Science,', 'I’m', 'a', 'Music', 'minor.', 'I', 'love', 'exploring', 'new', 'songs', 'occasionally.', 'Whenever', 'I', 'discover', 'a', 'new', 'taste', 'of', 'music,', 'I', 'would', 'want', 'to', 'listen', 'to', 'songs', 'similar', 'to', 'the', 'newly', 'found', 'novel', 'tune', 'being', 'played', 'next.', 'However,', 'the', 'current', 'shuffle', 'button', 'on', 'Spotify', 'or', 'recommended', 'next', 'video', 'on', 'YouTube', 'are', 'not', 'in', 'line', 'with', 'my', 'desire.', 'The', 'idea', 'of', 'this', 'proposal', 'is', 'to', 'research', 'different', 'song', 'recommendation', 'algorithms', 'and', 'find', 'a', 'way', 'to', 'solve', 'the', 'stated', 'problem.']\n"
     ]
    }
   ],
   "source": [
    "print(ftokens)"
   ]
  },
  {
   "cell_type": "code",
   "execution_count": 17,
   "id": "758050cf-25c5-4268-870b-3e613b599d40",
   "metadata": {},
   "outputs": [
    {
     "name": "stdout",
     "output_type": "stream",
     "text": [
      "The number of words is  152\n"
     ]
    }
   ],
   "source": [
    "print(\"The number of words is \", len(ftokens))"
   ]
  },
  {
   "cell_type": "code",
   "execution_count": 18,
   "id": "decf3db8-2621-4b28-bf8a-b8cb1da08129",
   "metadata": {},
   "outputs": [
    {
     "name": "stdout",
     "output_type": "stream",
     "text": [
      " problem. \n"
     ]
    }
   ],
   "source": [
    "print(ftext[-10:])"
   ]
  },
  {
   "cell_type": "code",
   "execution_count": 20,
   "id": "282ab86e-932b-4533-9979-14b11ce848c6",
   "metadata": {},
   "outputs": [
    {
     "name": "stdout",
     "output_type": "stream",
     "text": [
      "['is', 'a', 'technique', 'in', 'marketing']\n"
     ]
    }
   ],
   "source": [
    "print(ftokens[2:7])"
   ]
  },
  {
   "cell_type": "code",
   "execution_count": 21,
   "id": "2495ed56-3bb0-40b2-aeb6-71e3d7ab8f36",
   "metadata": {},
   "outputs": [
    {
     "name": "stdout",
     "output_type": "stream",
     "text": [
      "['segmentation', 'a', 'in']\n"
     ]
    }
   ],
   "source": [
    "print(ftokens[1:7:2])"
   ]
  },
  {
   "cell_type": "code",
   "execution_count": 26,
   "id": "dd96dc2e-dca1-4172-aed1-fe220d788dc3",
   "metadata": {},
   "outputs": [
    {
     "name": "stdout",
     "output_type": "stream",
     "text": [
      "['segmentation', 'technique', 'segmentation', 'a', 'in']\n"
     ]
    }
   ],
   "source": [
    "print(ftokens[1:7:3]+ftokens[1:7:2])"
   ]
  },
  {
   "cell_type": "code",
   "execution_count": 27,
   "id": "a1032368-9a93-4cb9-ac02-2a7167b84cad",
   "metadata": {},
   "outputs": [],
   "source": [
    "fstring=\"-\".join(ftokens[1:7:2])"
   ]
  },
  {
   "cell_type": "code",
   "execution_count": 28,
   "id": "bbc9fb65-a2d8-4028-bccd-2504a2df6db8",
   "metadata": {},
   "outputs": [
    {
     "name": "stdout",
     "output_type": "stream",
     "text": [
      "segmentation-a-in\n"
     ]
    }
   ],
   "source": [
    "print(fstring)"
   ]
  },
  {
   "cell_type": "markdown",
   "id": "3532d499-65f3-41bd-9f9b-090989aa2101",
   "metadata": {},
   "source": [
    "Count different words"
   ]
  },
  {
   "cell_type": "code",
   "execution_count": 31,
   "id": "efaf8606-e370-48d8-9ea7-fadfd4a1e179",
   "metadata": {},
   "outputs": [
    {
     "name": "stdout",
     "output_type": "stream",
     "text": [
      "Total Unique Words: 106\n"
     ]
    }
   ],
   "source": [
    "count = 0\n",
    "file = open(\"example.txt\", \"r\")\n",
    "read_data = file.read()\n",
    "words = set(read_data.split())\n",
    "for word in words:\n",
    "    count += 1\n",
    "print('Total Unique Words:', count)\n"
   ]
  },
  {
   "cell_type": "markdown",
   "id": "9739bdc2-eaf3-4aa4-8f2d-0f412757895d",
   "metadata": {},
   "source": [
    "Plot a bar chart of repeated words"
   ]
  },
  {
   "cell_type": "code",
   "execution_count": 40,
   "id": "851269ab-5a7f-4ece-9d74-b9c54d8fcb0b",
   "metadata": {},
   "outputs": [
    {
     "name": "stdout",
     "output_type": "stream",
     "text": [
      "{'a': 5, 'market': 3, 'segmentation': 2, 'to': 7, 'target': 1, 'of': 3, 'is': 2, 'into': 1, 'the': 5, 'in': 3, 'I': 2, 'new': 1, 'songs': 1, 'on': 2, 'or': 1, 'with': 1, 'The': 1, 'idea': 1, 'this': 1, 'proposal': 1, 'research': 1, 'and': 1}\n"
     ]
    }
   ],
   "source": [
    "my_list = list(read_data.split())\n",
    "new_list = []\n",
    "dup_list = []\n",
    "for i in my_list:\n",
    "    if i not in new_list:\n",
    "        new_list.append(i)\n",
    "    else:\n",
    "        dup_list.append(i)\n",
    "my_dict = {i:dup_list.count(i) for i in dup_list}\n",
    "print(my_dict)\n",
    "        "
   ]
  },
  {
   "cell_type": "code",
   "execution_count": 41,
   "id": "8a7d550d-9a90-4de8-b6ab-2c9d2d2b50fa",
   "metadata": {},
   "outputs": [
    {
     "data": {
      "image/png": "[encoded data removed]",
      "text/plain": [
       "<Figure size 1000x500 with 1 Axes>"
      ]
     },
     "metadata": {},
     "output_type": "display_data"
    }
   ],
   "source": [
    "import numpy as np\n",
    "import matplotlib.pyplot as plt\n",
    "\n",
    "words = list(my_dict.keys())\n",
    "values = list(my_dict.values())\n",
    "fig = plt.figure(figsize = (10, 5))\n",
    "#  Bar plot\n",
    "plt.bar(words, values, color ='green',\n",
    "        width = 0.5)\n",
    "plt.xlabel(\"Duplicated Words\")\n",
    "plt.ylabel(\"Numbers of Duplicates\")\n",
    "plt.title(\"Frequency of Duplicate Words\")\n",
    "plt.show()"
   ]
  },
  {
   "cell_type": "code",
   "execution_count": null,
   "id": "f0be077c-4ccf-4b41-86ef-aa4485ce23cc",
   "metadata": {},
   "outputs": [],
   "source": []
  }
 ],
 "metadata": {
  "kernelspec": {
   "display_name": "Python 3.7",
   "language": "python",
   "name": "py37"
  },
  "language_info": {
   "codemirror_mode": {
    "name": "ipython",
    "version": 3
   },
   "file_extension": ".py",
   "mimetype": "text/x-python",
   "name": "python",
   "nbconvert_exporter": "python",
   "pygments_lexer": "ipython3",
   "version": "3.7.16"
  }
 },
 "nbformat": 4,
 "nbformat_minor": 5
}
