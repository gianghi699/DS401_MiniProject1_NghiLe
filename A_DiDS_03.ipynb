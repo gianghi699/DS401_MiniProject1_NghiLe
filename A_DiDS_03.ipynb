{
 "cells": [
  {
   "cell_type": "markdown",
   "id": "9f7e3fd4-d7e9-479a-ac8f-e5c2decc10f2",
   "metadata": {},
   "source": [
    "1. Create a list for a diagram"
   ]
  },
  {
   "cell_type": "code",
   "execution_count": 1,
   "id": "7ebfecba-4745-439f-92a2-d071876ae4b5",
   "metadata": {},
   "outputs": [],
   "source": [
    "x = ['a', ['bb', ['ccc','ddd'], 'ee', 'ff'], 'g', ['hh','ii'],'j']"
   ]
  },
  {
   "cell_type": "code",
   "execution_count": 2,
   "id": "2f165243-b342-42a9-84ee-3cacd7f4168c",
   "metadata": {},
   "outputs": [
    {
     "data": {
      "text/plain": [
       "['bb', ['ccc', 'ddd'], 'ee', 'ff']"
      ]
     },
     "execution_count": 2,
     "metadata": {},
     "output_type": "execute_result"
    }
   ],
   "source": [
    "x[1]"
   ]
  },
  {
   "cell_type": "code",
   "execution_count": 3,
   "id": "d9d3d867-912d-4180-b173-81d4e95c61db",
   "metadata": {},
   "outputs": [
    {
     "data": {
      "text/plain": [
       "['ccc', 'ddd']"
      ]
     },
     "execution_count": 3,
     "metadata": {},
     "output_type": "execute_result"
    }
   ],
   "source": [
    "x[1][1]"
   ]
  },
  {
   "cell_type": "code",
   "execution_count": 4,
   "id": "e634cbad-4903-4a8c-b1a2-c69e33f8764e",
   "metadata": {},
   "outputs": [
    {
     "data": {
      "text/plain": [
       "['hh', 'ii']"
      ]
     },
     "execution_count": 4,
     "metadata": {},
     "output_type": "execute_result"
    }
   ],
   "source": [
    "x[3]"
   ]
  },
  {
   "cell_type": "markdown",
   "id": "55903b29-871f-43e6-bcf4-66a1a9a51d62",
   "metadata": {},
   "source": [
    "2. Implement some examples with methods below"
   ]
  },
  {
   "cell_type": "markdown",
   "id": "81192754-2cb0-4c96-85a6-f29fad6e5228",
   "metadata": {},
   "source": [
    "* append"
   ]
  },
  {
   "cell_type": "code",
   "execution_count": 15,
   "id": "458d15e3-1dfc-4ca1-b5f5-b3e82142494c",
   "metadata": {},
   "outputs": [
    {
     "name": "stdout",
     "output_type": "stream",
     "text": [
      "['Honda', 'Toyota', 'Ford', 'Buick']\n"
     ]
    }
   ],
   "source": [
    "cars = ['Honda', 'Toyota', 'Ford']\n",
    "cars.append('Buick')\n",
    "print(cars)"
   ]
  },
  {
   "cell_type": "markdown",
   "id": "1fba3217-43c6-4b23-b816-38ccbf7553b4",
   "metadata": {},
   "source": [
    "* upper"
   ]
  },
  {
   "cell_type": "code",
   "execution_count": 11,
   "id": "8d32f07e-aa49-4eaf-abdb-c1d638867000",
   "metadata": {},
   "outputs": [
    {
     "name": "stdout",
     "output_type": "stream",
     "text": [
      "LE BUI GIA NGHI\n"
     ]
    }
   ],
   "source": [
    "txt = \"le bui gia nghi\"\n",
    "x = txt.upper()\n",
    "print(x)"
   ]
  },
  {
   "cell_type": "markdown",
   "id": "076d219b-0042-4d11-ae13-70fbce417e66",
   "metadata": {},
   "source": [
    "* extend"
   ]
  },
  {
   "cell_type": "code",
   "execution_count": 16,
   "id": "bd443906-43e7-4092-b506-e6d8a9f4829b",
   "metadata": {},
   "outputs": [
    {
     "name": "stdout",
     "output_type": "stream",
     "text": [
      "['Audi', 'Jaguar', 'BMW', 'Acura', 'Chevrolet', 'Mazda']\n"
     ]
    }
   ],
   "source": [
    "more_cars = ['Audi', 'Jaguar', 'BMW']\n",
    "other_cars = ['Acura', 'Chevrolet', 'Mazda']\n",
    "more_cars.extend(other_cars)\n",
    "print(more_cars)"
   ]
  },
  {
   "cell_type": "markdown",
   "id": "c4dcd304-524e-433c-827f-1b914e04b55f",
   "metadata": {},
   "source": [
    "* insert"
   ]
  },
  {
   "cell_type": "code",
   "execution_count": 18,
   "id": "c57602ea-5133-421f-ba21-6e8346e28e32",
   "metadata": {},
   "outputs": [
    {
     "name": "stdout",
     "output_type": "stream",
     "text": [
      "['Citizen', 'Apple', 'Casio']\n"
     ]
    }
   ],
   "source": [
    "watches = ['Citizen', 'Casio']\n",
    "watches.insert(1, 'Apple')\n",
    "print(watches)"
   ]
  },
  {
   "cell_type": "markdown",
   "id": "58ecf1c1-c011-4acf-8f54-8d26c344b5a8",
   "metadata": {},
   "source": [
    "* remove"
   ]
  },
  {
   "cell_type": "code",
   "execution_count": 20,
   "id": "5f85aa0d-fb02-4159-8414-a43508571603",
   "metadata": {},
   "outputs": [
    {
     "name": "stdout",
     "output_type": "stream",
     "text": [
      "['blueberry', 'peach']\n"
     ]
    }
   ],
   "source": [
    "fruits = ['apple', 'blueberry', 'peach']\n",
    "fruits.remove('apple')\n",
    "print(fruits)\n"
   ]
  },
  {
   "cell_type": "markdown",
   "id": "ba001499-324e-4581-a389-badc95bf934a",
   "metadata": {},
   "source": [
    "* pop"
   ]
  },
  {
   "cell_type": "code",
   "execution_count": 21,
   "id": "bf33f013-7e80-4b92-9eac-6354ce03a6cb",
   "metadata": {},
   "outputs": [
    {
     "name": "stdout",
     "output_type": "stream",
     "text": [
      "[1, 2]\n"
     ]
    }
   ],
   "source": [
    "list = [1,2,3]\n",
    "list.pop(2)\n",
    "print(list)"
   ]
  },
  {
   "cell_type": "markdown",
   "id": "36fb18b2-907e-4785-ab67-98d202942346",
   "metadata": {},
   "source": [
    "3. Apply basic operations with tuples"
   ]
  },
  {
   "cell_type": "code",
   "execution_count": 22,
   "id": "d4ba53e6-d3c6-4a68-91b6-51b1b2401730",
   "metadata": {},
   "outputs": [
    {
     "data": {
      "text/plain": [
       "(1, 3, 5, 7)"
      ]
     },
     "execution_count": 22,
     "metadata": {},
     "output_type": "execute_result"
    }
   ],
   "source": [
    "tuple = (1,3,5,7)\n",
    "tuple"
   ]
  },
  {
   "cell_type": "code",
   "execution_count": 24,
   "id": "da745665-3246-4158-a99d-be1fbc98ed53",
   "metadata": {},
   "outputs": [
    {
     "data": {
      "text/plain": [
       "1"
      ]
     },
     "execution_count": 24,
     "metadata": {},
     "output_type": "execute_result"
    }
   ],
   "source": [
    "tuple[0]"
   ]
  },
  {
   "cell_type": "code",
   "execution_count": 25,
   "id": "2d15f97f-6ab7-4b63-8619-5bff24a21731",
   "metadata": {},
   "outputs": [
    {
     "data": {
      "text/plain": [
       "(7, 5, 3, 1)"
      ]
     },
     "execution_count": 25,
     "metadata": {},
     "output_type": "execute_result"
    }
   ],
   "source": [
    "tuple[::-1]"
   ]
  },
  {
   "cell_type": "code",
   "execution_count": null,
   "id": "8ad72f1a-a227-4487-85e4-f511a323c8e5",
   "metadata": {},
   "outputs": [],
   "source": []
  }
 ],
 "metadata": {
  "kernelspec": {
   "display_name": "Python 3.7",
   "language": "python",
   "name": "py37"
  },
  "language_info": {
   "codemirror_mode": {
    "name": "ipython",
    "version": 3
   },
   "file_extension": ".py",
   "mimetype": "text/x-python",
   "name": "python",
   "nbconvert_exporter": "python",
   "pygments_lexer": "ipython3",
   "version": "3.7.16"
  }
 },
 "nbformat": 4,
 "nbformat_minor": 5
}
